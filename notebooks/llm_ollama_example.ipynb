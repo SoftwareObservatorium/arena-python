{
 "cells": [
  {
   "cell_type": "code",
   "execution_count": 1,
   "id": "f43c10e2-9a06-4226-95f9-4309151d6cd8",
   "metadata": {},
   "outputs": [
    {
     "name": "stderr",
     "output_type": "stream",
     "text": [
      "/home/marcus/PycharmProjects/arena-python/.venv/lib/python3.12/site-packages/IPython/core/magics/osm.py:417: UserWarning: This is now an optional IPython functionality, setting dhist requires you to install the `pickleshare` library.\n",
      "  self.shell.db['dhist'] = compress_dhist(dhist)[-100:]\n"
     ]
    },
    {
     "name": "stdout",
     "output_type": "stream",
     "text": [
      "/home/marcus/PycharmProjects/arena-python\n"
     ]
    }
   ],
   "source": [
    "# import modules from root of project\n",
    "%cd ..\n",
    "\n",
    "import time\n",
    "\n",
    "from arena.arena import parse_stimulus_matrix, Sheet, run_sheets, collect_actuation_sheets, SheetInvocation, \\\n",
    "    lql_to_sheet_signature\n",
    "from arena.engine.adaptation import PassThroughAdaptationStrategy\n",
    "from arena.engine.artifacts import CodeCandidate, import_classes_under_test\n",
    "from arena.engine.classes import ClassUnderTest\n",
    "from arena.engine.ssntestdriver import interpret_sheet, run_sheet, InvocationListener, Test, TestInvocation\n",
    "from arena.lql.lqlparser import parse_lql\n",
    "from arena.ssn.ssnparser import parse_sheet\n",
    "from arena.engine.artifacts import write_modules_and_import_cuts\n",
    "from arena.provider.gai import prompt_code_units\n",
    "\n",
    "from langchain_core.prompts import ChatPromptTemplate\n",
    "from langchain_ollama import OllamaLLM\n",
    "\n",
    "# pandas\n",
    "import pandas as pd\n",
    "pd.set_option('display.max_columns', 0) #replace n with the number of columns you want to see completely\n",
    "pd.set_option('display.max_rows', 0) #replace n with the number of rows you want to see completely"
   ]
  },
  {
   "cell_type": "markdown",
   "id": "c448cf11-35eb-406a-a718-f78a7e69e792",
   "metadata": {},
   "source": [
    "# Create Stimulus Matrix for Base64 Example"
   ]
  },
  {
   "cell_type": "code",
   "execution_count": 2,
   "id": "8984f28c-bb81-446f-8be4-3cea7c0f380f",
   "metadata": {},
   "outputs": [],
   "source": [
    "# use this for OpenAI instead of Ollama\n",
    "# os.environ[\"OPENAI_API_KEY\"] = \"demo\" # FIXME your API KEY\n",
    "# llm = OpenAI(\n",
    "#     model=\"gpt-4o-mini\"\n",
    "# )\n",
    "# Ollama\n",
    "llm = OllamaLLM(model=\"llama3.1\") # assumes localhost\n",
    "template = 'def greatest_common_divisor(a: int, b: int) -> int: \"\"\" Return a greatest common divisor of two integers a and b >>> greatest_common_divisor(3, 5) 1 >>> greatest_common_divisor(25, 15) 5 \"\"\"'\n",
    "prompt = ChatPromptTemplate.from_template(template)\n",
    "\n",
    "code_solutions = prompt_code_units(llm, prompt, samples = 3) # let's obtain 3\n",
    "\n",
    "target_folder = f\"/tmp/arena-python-{round(time.time() * 1000)}\"\n",
    "# classes under test\n",
    "cuts = write_modules_and_import_cuts(target_folder, code_solutions)\n",
    "\n",
    "# lql (interface specification)\n",
    "lql = \"\"\"GCD {\n",
    "        greatest_common_divisor(int,int)->int\n",
    "    }\n",
    "\"\"\"\n",
    "\n",
    "# stimulus sheet (as a data frame)\n",
    "ss = pd.DataFrame([\n",
    "    {\"A\": {}, \"B\": \"create\", \"C\": \"GCD\", \"D\": None, \"E\": None},\n",
    "    {\"A\": \"5\", \"B\": \"greatest_common_divisor\", \"C\": \"A1\", \"D\": \"25\", \"E\": \"15\"}\n",
    "])\n",
    "\n",
    "# create stimulus matrix\n",
    "sm = parse_stimulus_matrix([Sheet(\"test1()\", ss, lql)], cuts, [SheetInvocation(\"test1\", \"\")])"
   ]
  },
  {
   "cell_type": "markdown",
   "id": "949c2e45-af49-44df-8f2a-c12263e3b6e3",
   "metadata": {},
   "source": [
    "## SM is a pandas DataFrame\n",
    "\n",
    "The data frame consists of complex objects."
   ]
  },
  {
   "cell_type": "code",
   "execution_count": 3,
   "id": "cdc87e7b-528f-402b-9ae9-e622ef7b4930",
   "metadata": {},
   "outputs": [
    {
     "data": {
      "text/html": [
       "<div>\n",
       "<style scoped>\n",
       "    .dataframe tbody tr th:only-of-type {\n",
       "        vertical-align: middle;\n",
       "    }\n",
       "\n",
       "    .dataframe tbody tr th {\n",
       "        vertical-align: top;\n",
       "    }\n",
       "\n",
       "    .dataframe thead th {\n",
       "        text-align: right;\n",
       "    }\n",
       "</style>\n",
       "<table border=\"1\" class=\"dataframe\">\n",
       "  <thead>\n",
       "    <tr style=\"text-align: right;\">\n",
       "      <th></th>\n",
       "      <th>0_original</th>\n",
       "      <th>1_original</th>\n",
       "      <th>2_original</th>\n",
       "    </tr>\n",
       "    <tr>\n",
       "      <th>tests</th>\n",
       "      <th></th>\n",
       "      <th></th>\n",
       "      <th></th>\n",
       "    </tr>\n",
       "  </thead>\n",
       "  <tbody>\n",
       "    <tr>\n",
       "      <th>test1</th>\n",
       "      <td>test1()</td>\n",
       "      <td>test1()</td>\n",
       "      <td>test1()</td>\n",
       "    </tr>\n",
       "  </tbody>\n",
       "</table>\n",
       "</div>"
      ],
      "text/plain": [
       "      0_original 1_original 2_original\n",
       "tests                                 \n",
       "test1    test1()    test1()    test1()"
      ]
     },
     "execution_count": 3,
     "metadata": {},
     "output_type": "execute_result"
    }
   ],
   "source": [
    "sm"
   ]
  },
  {
   "cell_type": "markdown",
   "id": "254f265e-031f-4c6e-9e9b-0b76c8d793c9",
   "metadata": {},
   "source": [
    "## Run Stimulus Matrix in Arena"
   ]
  },
  {
   "cell_type": "code",
   "execution_count": 4,
   "id": "9fbff6d6-d8d6-45ba-8ba0-6b25d2291b11",
   "metadata": {},
   "outputs": [],
   "source": [
    "# run stimulus matrix\n",
    "invocation_listener = InvocationListener()\n",
    "srm = run_sheets(sm, 1, invocation_listener)"
   ]
  },
  {
   "cell_type": "markdown",
   "id": "20fb2ec3-6345-4669-92c9-c4d96dfa267d",
   "metadata": {},
   "source": [
    "## SRM is a pandas DataFrame\n",
    "\n",
    "The data frame consists of complex objects."
   ]
  },
  {
   "cell_type": "code",
   "execution_count": 5,
   "id": "1ca3a3d5-4678-4c0b-840f-709de22ababb",
   "metadata": {},
   "outputs": [
    {
     "data": {
      "text/html": [
       "<div>\n",
       "<style scoped>\n",
       "    .dataframe tbody tr th:only-of-type {\n",
       "        vertical-align: middle;\n",
       "    }\n",
       "\n",
       "    .dataframe tbody tr th {\n",
       "        vertical-align: top;\n",
       "    }\n",
       "\n",
       "    .dataframe thead th {\n",
       "        text-align: right;\n",
       "    }\n",
       "</style>\n",
       "<table border=\"1\" class=\"dataframe\">\n",
       "  <thead>\n",
       "    <tr style=\"text-align: right;\">\n",
       "      <th></th>\n",
       "      <th>0_original_0</th>\n",
       "      <th>1_original_0</th>\n",
       "      <th>2_original_0</th>\n",
       "    </tr>\n",
       "    <tr>\n",
       "      <th>tests</th>\n",
       "      <th></th>\n",
       "      <th></th>\n",
       "      <th></th>\n",
       "    </tr>\n",
       "  </thead>\n",
       "  <tbody>\n",
       "    <tr>\n",
       "      <th>test1</th>\n",
       "      <td>Executed Invocations\\n0 =&gt; ExecutedInvocation ...</td>\n",
       "      <td>Executed Invocations\\n0 =&gt; ExecutedInvocation ...</td>\n",
       "      <td>Executed Invocations\\n0 =&gt; ExecutedInvocation ...</td>\n",
       "    </tr>\n",
       "  </tbody>\n",
       "</table>\n",
       "</div>"
      ],
      "text/plain": [
       "                                            0_original_0  ...                                       2_original_0\n",
       "tests                                                     ...                                                   \n",
       "test1  Executed Invocations\\n0 => ExecutedInvocation ...  ...  Executed Invocations\\n0 => ExecutedInvocation ...\n",
       "\n",
       "[1 rows x 3 columns]"
      ]
     },
     "execution_count": 5,
     "metadata": {},
     "output_type": "execute_result"
    }
   ],
   "source": [
    "srm"
   ]
  },
  {
   "cell_type": "markdown",
   "id": "811d0bf9-15f5-47d4-a9b2-2a8e234c5bc1",
   "metadata": {},
   "source": [
    "## Zoom into SRM"
   ]
  },
  {
   "cell_type": "code",
   "execution_count": 6,
   "id": "70c9330c-7399-4466-b108-890a1ad28e8e",
   "metadata": {},
   "outputs": [],
   "source": [
    "# create actuation sheets, now we have the real stimulus response matrix (SRM)\n",
    "srm_actuations = collect_actuation_sheets(srm)"
   ]
  },
  {
   "cell_type": "code",
   "execution_count": 7,
   "id": "fd62d45f-ae5a-4f43-b7c1-936b3f3c2f26",
   "metadata": {},
   "outputs": [
    {
     "data": {
      "text/html": [
       "<div>\n",
       "<style scoped>\n",
       "    .dataframe tbody tr th:only-of-type {\n",
       "        vertical-align: middle;\n",
       "    }\n",
       "\n",
       "    .dataframe tbody tr th {\n",
       "        vertical-align: top;\n",
       "    }\n",
       "\n",
       "    .dataframe thead th {\n",
       "        text-align: right;\n",
       "    }\n",
       "</style>\n",
       "<table border=\"1\" class=\"dataframe\">\n",
       "  <thead>\n",
       "    <tr style=\"text-align: right;\">\n",
       "      <th></th>\n",
       "      <th>0_original_0</th>\n",
       "      <th>1_original_0</th>\n",
       "      <th>2_original_0</th>\n",
       "    </tr>\n",
       "    <tr>\n",
       "      <th>tests</th>\n",
       "      <th></th>\n",
       "      <th></th>\n",
       "      <th></th>\n",
       "    </tr>\n",
       "  </thead>\n",
       "  <tbody>\n",
       "    <tr>\n",
       "      <th>test1</th>\n",
       "      <td>output                operation       ...</td>\n",
       "      <td>output                operation       ...</td>\n",
       "      <td>output                operation       ...</td>\n",
       "    </tr>\n",
       "  </tbody>\n",
       "</table>\n",
       "</div>"
      ],
      "text/plain": [
       "                                            0_original_0  ...                                       2_original_0\n",
       "tests                                                     ...                                                   \n",
       "test1          output                operation       ...  ...          output                operation       ...\n",
       "\n",
       "[1 rows x 3 columns]"
      ]
     },
     "execution_count": 7,
     "metadata": {},
     "output_type": "execute_result"
    }
   ],
   "source": [
    "srm_actuations"
   ]
  },
  {
   "cell_type": "markdown",
   "id": "883f5395-01f3-4c63-9c16-e57f074d1124",
   "metadata": {},
   "source": [
    "### Get Actuation sheet for first cell in the DataFrame"
   ]
  },
  {
   "cell_type": "code",
   "execution_count": 8,
   "id": "a57bdc91-af80-4908-8f33-0234c2dbad33",
   "metadata": {},
   "outputs": [
    {
     "data": {
      "text/html": [
       "<div>\n",
       "<style scoped>\n",
       "    .dataframe tbody tr th:only-of-type {\n",
       "        vertical-align: middle;\n",
       "    }\n",
       "\n",
       "    .dataframe tbody tr th {\n",
       "        vertical-align: top;\n",
       "    }\n",
       "\n",
       "    .dataframe thead th {\n",
       "        text-align: right;\n",
       "    }\n",
       "</style>\n",
       "<table border=\"1\" class=\"dataframe\">\n",
       "  <thead>\n",
       "    <tr style=\"text-align: right;\">\n",
       "      <th></th>\n",
       "      <th>output</th>\n",
       "      <th>operation</th>\n",
       "      <th>service</th>\n",
       "      <th>input_0</th>\n",
       "      <th>input_1</th>\n",
       "    </tr>\n",
       "  </thead>\n",
       "  <tbody>\n",
       "    <tr>\n",
       "      <th>0</th>\n",
       "      <td>$CUT@module</td>\n",
       "      <td>__init__</td>\n",
       "      <td>OPDSQYMBTO.GCD</td>\n",
       "      <td>None</td>\n",
       "      <td>None</td>\n",
       "    </tr>\n",
       "    <tr>\n",
       "      <th>1</th>\n",
       "      <td>5</td>\n",
       "      <td>greatest_common_divisor</td>\n",
       "      <td>$CUT@module</td>\n",
       "      <td>25</td>\n",
       "      <td>15</td>\n",
       "    </tr>\n",
       "  </tbody>\n",
       "</table>\n",
       "</div>"
      ],
      "text/plain": [
       "        output                operation         service input_0 input_1\n",
       "0  $CUT@module                 __init__  OPDSQYMBTO.GCD    None    None\n",
       "1            5  greatest_common_divisor     $CUT@module      25      15"
      ]
     },
     "execution_count": 8,
     "metadata": {},
     "output_type": "execute_result"
    }
   ],
   "source": [
    "srm_actuations.iat[0, 0] # pick first cell"
   ]
  },
  {
   "cell_type": "markdown",
   "id": "48387387-f66b-48b2-981f-cb262bee04c7",
   "metadata": {},
   "source": [
    "### Which Candidate Implementation is it?"
   ]
  },
  {
   "cell_type": "code",
   "execution_count": 9,
   "id": "55af29d4-2d37-4772-8364-f1178ceccc0f",
   "metadata": {},
   "outputs": [
    {
     "data": {
      "text/plain": [
       "{'cut': <arena.engine.classes.ClassUnderTest at 0x7c606a757170>,\n",
       " 'initializer_mapping': {},\n",
       " 'method_mapping': {<arena.lql.lqlparser.MethodSignature at 0x7c606a32b4d0>: <function 0.greatest_common_divisor(a: int, b: int) -> int>},\n",
       " 'adapter_id': '0'}"
      ]
     },
     "execution_count": 9,
     "metadata": {},
     "output_type": "execute_result"
    }
   ],
   "source": [
    "vars(srm_actuations.columns[0]) # print properties of object"
   ]
  },
  {
   "cell_type": "code",
   "execution_count": 10,
   "id": "889d52a9-a0bd-42cf-93c7-1b8a0844108e",
   "metadata": {},
   "outputs": [
    {
     "data": {
      "text/plain": [
       "{'id': '0',\n",
       " 'variant_id': 'original',\n",
       " 'code_candidate': <arena.engine.artifacts.CodeCandidate at 0x7c606c5edfd0>,\n",
       " 'class_under_test': <module '0' from '/tmp/arena-python-1742552534914/0/candidate.py'>}"
      ]
     },
     "execution_count": 10,
     "metadata": {},
     "output_type": "execute_result"
    }
   ],
   "source": [
    "#  show class\n",
    "vars(srm_actuations.columns[0].cut) # print properties of object"
   ]
  },
  {
   "cell_type": "markdown",
   "id": "3e57fe3d-a52c-4c4b-a1be-008e0bd47828",
   "metadata": {},
   "source": [
    "### Show Source Code"
   ]
  },
  {
   "cell_type": "code",
   "execution_count": 11,
   "id": "92f82069-e464-4b75-9a08-46f3bb3f7a18",
   "metadata": {},
   "outputs": [
    {
     "data": {
      "text/plain": [
       "'def greatest_common_divisor(a: int, b: int) -> int:\\n    \"\"\"\\n    Return a greatest common divisor of two integers a and b\\n    \\n    Args:\\n        a (int): First integer.\\n        b (int): Second integer.\\n    \\n    Returns:\\n        int: Greatest common divisor of a and b.\\n    \\n    Examples:\\n        >>> greatest_common_divisor(3, 5)\\n        1\\n        >>> greatest_common_divisor(25, 15)\\n        5\\n    \"\"\"\\n    while b != 0:\\n        a, b = b, a % b\\n    return abs(a)\\n'"
      ]
     },
     "execution_count": 11,
     "metadata": {},
     "output_type": "execute_result"
    }
   ],
   "source": [
    "# show source code\n",
    "srm_actuations.columns[0].cut.get_source_code()"
   ]
  },
  {
   "cell_type": "markdown",
   "id": "b294f527-d0b8-4f0d-8bb6-dbd49b334b5b",
   "metadata": {},
   "source": [
    "### Which Test is it?"
   ]
  },
  {
   "cell_type": "code",
   "execution_count": 12,
   "id": "ab8b57fc-dab9-4acb-9e7c-514110cbe1ac",
   "metadata": {},
   "outputs": [
    {
     "data": {
      "text/plain": [
       "{'name': 'test1',\n",
       " 'parsed_sheet': <arena.ssn.ssnparser.ParsedSheet at 0x7c606a7e9340>,\n",
       " 'interface_specification': <arena.lql.lqlparser.Interface at 0x7c606a32ba10>,\n",
       " 'signature': <arena.arena.SheetSignature at 0x7c606a712300>}"
      ]
     },
     "execution_count": 12,
     "metadata": {},
     "output_type": "execute_result"
    }
   ],
   "source": [
    "# from Stimulus Matrix\n",
    "vars(sm.iat[0, 0].test) # print properties of object"
   ]
  },
  {
   "cell_type": "markdown",
   "id": "f9ab977f-d9cd-40b9-9439-2a63e6b2dcac",
   "metadata": {},
   "source": [
    "## Look Specific Observations\n",
    "\n",
    "Let's look at the outputs first"
   ]
  },
  {
   "cell_type": "code",
   "execution_count": 13,
   "id": "3f91d298-ac66-4510-a69f-3ed753223bdd",
   "metadata": {},
   "outputs": [
    {
     "data": {
      "text/html": [
       "<div>\n",
       "<style scoped>\n",
       "    .dataframe tbody tr th:only-of-type {\n",
       "        vertical-align: middle;\n",
       "    }\n",
       "\n",
       "    .dataframe tbody tr th {\n",
       "        vertical-align: top;\n",
       "    }\n",
       "\n",
       "    .dataframe thead th {\n",
       "        text-align: right;\n",
       "    }\n",
       "</style>\n",
       "<table border=\"1\" class=\"dataframe\">\n",
       "  <thead>\n",
       "    <tr style=\"text-align: right;\">\n",
       "      <th></th>\n",
       "      <th>0_original_0</th>\n",
       "      <th>1_original_0</th>\n",
       "      <th>2_original_0</th>\n",
       "    </tr>\n",
       "    <tr>\n",
       "      <th>tests</th>\n",
       "      <th></th>\n",
       "      <th></th>\n",
       "      <th></th>\n",
       "    </tr>\n",
       "  </thead>\n",
       "  <tbody>\n",
       "    <tr>\n",
       "      <th>test1</th>\n",
       "      <td>$CUT@module</td>\n",
       "      <td>$CUT@module</td>\n",
       "      <td>$CUT@module</td>\n",
       "    </tr>\n",
       "    <tr>\n",
       "      <th>test1</th>\n",
       "      <td>5</td>\n",
       "      <td>5</td>\n",
       "      <td>5</td>\n",
       "    </tr>\n",
       "  </tbody>\n",
       "</table>\n",
       "</div>"
      ],
      "text/plain": [
       "      0_original_0 1_original_0 2_original_0\n",
       "tests                                       \n",
       "test1  $CUT@module  $CUT@module  $CUT@module\n",
       "test1            5            5            5"
      ]
     },
     "execution_count": 13,
     "metadata": {},
     "output_type": "execute_result"
    }
   ],
   "source": [
    "# actuation sheet is a pandas data frame as well\n",
    "srm_actuations.map(lambda x: pd.Series(x['output'])).apply(pd.Series.explode)"
   ]
  },
  {
   "cell_type": "code",
   "execution_count": 14,
   "id": "bdab46ef-72c8-4198-955d-b35db4c30044",
   "metadata": {},
   "outputs": [
    {
     "data": {
      "text/html": [
       "<div>\n",
       "<style scoped>\n",
       "    .dataframe tbody tr th:only-of-type {\n",
       "        vertical-align: middle;\n",
       "    }\n",
       "\n",
       "    .dataframe tbody tr th {\n",
       "        vertical-align: top;\n",
       "    }\n",
       "\n",
       "    .dataframe thead th {\n",
       "        text-align: right;\n",
       "    }\n",
       "</style>\n",
       "<table border=\"1\" class=\"dataframe\">\n",
       "  <thead>\n",
       "    <tr style=\"text-align: right;\">\n",
       "      <th></th>\n",
       "      <th>0_original_0</th>\n",
       "      <th>1_original_0</th>\n",
       "      <th>2_original_0</th>\n",
       "    </tr>\n",
       "    <tr>\n",
       "      <th>tests</th>\n",
       "      <th></th>\n",
       "      <th></th>\n",
       "      <th></th>\n",
       "    </tr>\n",
       "  </thead>\n",
       "  <tbody>\n",
       "    <tr>\n",
       "      <th>test1</th>\n",
       "      <td>__init__</td>\n",
       "      <td>__init__</td>\n",
       "      <td>__init__</td>\n",
       "    </tr>\n",
       "    <tr>\n",
       "      <th>test1</th>\n",
       "      <td>greatest_common_divisor</td>\n",
       "      <td>greatest_common_divisor</td>\n",
       "      <td>greatest_common_divisor</td>\n",
       "    </tr>\n",
       "  </tbody>\n",
       "</table>\n",
       "</div>"
      ],
      "text/plain": [
       "                  0_original_0  ...             2_original_0\n",
       "tests                           ...                         \n",
       "test1                 __init__  ...                 __init__\n",
       "test1  greatest_common_divisor  ...  greatest_common_divisor\n",
       "\n",
       "[2 rows x 3 columns]"
      ]
     },
     "execution_count": 14,
     "metadata": {},
     "output_type": "execute_result"
    }
   ],
   "source": [
    "# operation\n",
    "srm_actuations.map(lambda x: pd.Series(x['operation'])).apply(pd.Series.explode)"
   ]
  },
  {
   "cell_type": "code",
   "execution_count": 15,
   "id": "c9c290aa-2e30-44bd-8bd4-8decf9f0def3",
   "metadata": {},
   "outputs": [
    {
     "data": {
      "text/html": [
       "<div>\n",
       "<style scoped>\n",
       "    .dataframe tbody tr th:only-of-type {\n",
       "        vertical-align: middle;\n",
       "    }\n",
       "\n",
       "    .dataframe tbody tr th {\n",
       "        vertical-align: top;\n",
       "    }\n",
       "\n",
       "    .dataframe thead th {\n",
       "        text-align: right;\n",
       "    }\n",
       "</style>\n",
       "<table border=\"1\" class=\"dataframe\">\n",
       "  <thead>\n",
       "    <tr style=\"text-align: right;\">\n",
       "      <th></th>\n",
       "      <th>0_original_0</th>\n",
       "      <th>1_original_0</th>\n",
       "      <th>2_original_0</th>\n",
       "    </tr>\n",
       "    <tr>\n",
       "      <th>tests</th>\n",
       "      <th></th>\n",
       "      <th></th>\n",
       "      <th></th>\n",
       "    </tr>\n",
       "  </thead>\n",
       "  <tbody>\n",
       "    <tr>\n",
       "      <th>test1</th>\n",
       "      <td>OPDSQYMBTO.GCD</td>\n",
       "      <td>DFDLLUNHTF.GCD</td>\n",
       "      <td>MREPNXHZEG.GCD</td>\n",
       "    </tr>\n",
       "    <tr>\n",
       "      <th>test1</th>\n",
       "      <td>$CUT@module</td>\n",
       "      <td>$CUT@module</td>\n",
       "      <td>$CUT@module</td>\n",
       "    </tr>\n",
       "  </tbody>\n",
       "</table>\n",
       "</div>"
      ],
      "text/plain": [
       "         0_original_0    1_original_0    2_original_0\n",
       "tests                                                \n",
       "test1  OPDSQYMBTO.GCD  DFDLLUNHTF.GCD  MREPNXHZEG.GCD\n",
       "test1     $CUT@module     $CUT@module     $CUT@module"
      ]
     },
     "execution_count": 15,
     "metadata": {},
     "output_type": "execute_result"
    }
   ],
   "source": [
    "# service\n",
    "srm_actuations.map(lambda x: pd.Series(x['service'])).apply(pd.Series.explode)"
   ]
  },
  {
   "cell_type": "code",
   "execution_count": 16,
   "id": "4fa107a4-ffcc-4621-8f49-e71b26fdc9bc",
   "metadata": {},
   "outputs": [
    {
     "data": {
      "text/html": [
       "<div>\n",
       "<style scoped>\n",
       "    .dataframe tbody tr th:only-of-type {\n",
       "        vertical-align: middle;\n",
       "    }\n",
       "\n",
       "    .dataframe tbody tr th {\n",
       "        vertical-align: top;\n",
       "    }\n",
       "\n",
       "    .dataframe thead th {\n",
       "        text-align: right;\n",
       "    }\n",
       "</style>\n",
       "<table border=\"1\" class=\"dataframe\">\n",
       "  <thead>\n",
       "    <tr style=\"text-align: right;\">\n",
       "      <th></th>\n",
       "      <th>0_original_0</th>\n",
       "      <th>1_original_0</th>\n",
       "      <th>2_original_0</th>\n",
       "    </tr>\n",
       "    <tr>\n",
       "      <th>tests</th>\n",
       "      <th></th>\n",
       "      <th></th>\n",
       "      <th></th>\n",
       "    </tr>\n",
       "  </thead>\n",
       "  <tbody>\n",
       "    <tr>\n",
       "      <th>test1</th>\n",
       "      <td>None</td>\n",
       "      <td>None</td>\n",
       "      <td>None</td>\n",
       "    </tr>\n",
       "    <tr>\n",
       "      <th>test1</th>\n",
       "      <td>25</td>\n",
       "      <td>25</td>\n",
       "      <td>25</td>\n",
       "    </tr>\n",
       "  </tbody>\n",
       "</table>\n",
       "</div>"
      ],
      "text/plain": [
       "      0_original_0 1_original_0 2_original_0\n",
       "tests                                       \n",
       "test1         None         None         None\n",
       "test1           25           25           25"
      ]
     },
     "execution_count": 16,
     "metadata": {},
     "output_type": "execute_result"
    }
   ],
   "source": [
    "# first input parameter: here \"input_0\"\n",
    "srm_actuations.map(lambda x: pd.Series(x['input_0'])).apply(pd.Series.explode)"
   ]
  },
  {
   "cell_type": "code",
   "execution_count": null,
   "id": "ba3ed47a-7a5b-4ffb-8ea1-a292c7e4593a",
   "metadata": {},
   "outputs": [],
   "source": []
  }
 ],
 "metadata": {
  "kernelspec": {
   "display_name": "Python 3 (ipykernel)",
   "language": "python",
   "name": "python3"
  },
  "language_info": {
   "codemirror_mode": {
    "name": "ipython",
    "version": 3
   },
   "file_extension": ".py",
   "mimetype": "text/x-python",
   "name": "python",
   "nbconvert_exporter": "python",
   "pygments_lexer": "ipython3",
   "version": "3.12.3"
  }
 },
 "nbformat": 4,
 "nbformat_minor": 5
}
