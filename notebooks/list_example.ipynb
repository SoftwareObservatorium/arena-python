{
 "cells": [
  {
   "cell_type": "code",
   "execution_count": 34,
   "id": "f43c10e2-9a06-4226-95f9-4309151d6cd8",
   "metadata": {},
   "outputs": [
    {
     "name": "stdout",
     "output_type": "stream",
     "text": [
      "/\n"
     ]
    },
    {
     "name": "stderr",
     "output_type": "stream",
     "text": [
      "/home/marcus/PycharmProjects/arena-python/.venv/lib/python3.12/site-packages/IPython/core/magics/osm.py:417: UserWarning: This is now an optional IPython functionality, setting dhist requires you to install the `pickleshare` library.\n",
      "  self.shell.db['dhist'] = compress_dhist(dhist)[-100:]\n"
     ]
    }
   ],
   "source": [
    "# import modules from root of project\n",
    "%cd ..\n",
    "\n",
    "from arena.arena import parse_stimulus_matrix, Sheet, run_sheets, collect_actuation_sheets, SheetInvocation, \\\n",
    "    lql_to_sheet_signature\n",
    "from arena.engine.adaptation import PassThroughAdaptationStrategy\n",
    "from arena.engine.artifacts import CodeCandidate, import_classes_under_test\n",
    "from arena.engine.classes import ClassUnderTest\n",
    "from arena.engine.ssntestdriver import interpret_sheet, run_sheet, InvocationListener, Test, TestInvocation\n",
    "from arena.lql.lqlparser import parse_lql\n",
    "from arena.ssn.ssnparser import parse_sheet\n",
    "\n",
    "# pandas\n",
    "import pandas as pd\n",
    "pd.set_option('display.max_columns', 0) #replace n with the number of columns you want to see completely\n",
    "pd.set_option('display.max_rows', 0) #replace n with the number of rows you want to see completely"
   ]
  },
  {
   "cell_type": "markdown",
   "id": "c448cf11-35eb-406a-a718-f78a7e69e792",
   "metadata": {},
   "source": [
    "# Create Stimulus Matrix for List Example"
   ]
  },
  {
   "cell_type": "code",
   "execution_count": 35,
   "id": "8984f28c-bb81-446f-8be4-3cea7c0f380f",
   "metadata": {},
   "outputs": [],
   "source": [
    "# lql (interface specification)\n",
    "lql = \"\"\"List {\n",
    "    append(object)->void\n",
    "    pop()->object\n",
    "    len()->int }\n",
    "\"\"\"\n",
    "\n",
    "# stimulus sheet\n",
    "ssn_jsonl = \"\"\"\n",
    "            {\"cells\": {\"A1\": {}, \"B1\": \"create\", \"C1\": \"List\"}}\n",
    "            {\"cells\": {\"A2\": {}, \"B2\": \"append\", \"C2\": \"A1\", \"D2\": \"'Hello World!'\"}}\n",
    "            {\"cells\": {\"A3\": 1,  \"B3\": \"len\",  \"C3\": \"A1\"}}\n",
    "            {\"cells\": {\"A4\": {}, \"B4\": \"pop\", \"C4\": \"A1\"}}\n",
    "            {\"cells\": {\"A5\": 0,  \"B5\": \"len\", \"C5\": \"A1\"}}\n",
    "\"\"\"\n",
    "\n",
    "# classes under test\n",
    "#    cuts = [ClassUnderTest(\"1\", list), ClassUnderTest(\"2\", collections.deque)] works as well\n",
    "cuts = [ClassUnderTest(\"1\", \"list\"), ClassUnderTest(\"2\", \"collections.deque\")]\n",
    "\n",
    "# create stimulus matrix\n",
    "sm = parse_stimulus_matrix([Sheet(\"test1()\", ssn_jsonl, lql)], cuts, [SheetInvocation(\"test1\", \"\")])"
   ]
  },
  {
   "cell_type": "markdown",
   "id": "949c2e45-af49-44df-8f2a-c12263e3b6e3",
   "metadata": {},
   "source": [
    "## SM is a pandas DataFrame\n",
    "\n",
    "The data frame consists of complex objects."
   ]
  },
  {
   "cell_type": "code",
   "execution_count": 36,
   "id": "cdc87e7b-528f-402b-9ae9-e622ef7b4930",
   "metadata": {},
   "outputs": [
    {
     "data": {
      "text/html": [
       "<div>\n",
       "<style scoped>\n",
       "    .dataframe tbody tr th:only-of-type {\n",
       "        vertical-align: middle;\n",
       "    }\n",
       "\n",
       "    .dataframe tbody tr th {\n",
       "        vertical-align: top;\n",
       "    }\n",
       "\n",
       "    .dataframe thead th {\n",
       "        text-align: right;\n",
       "    }\n",
       "</style>\n",
       "<table border=\"1\" class=\"dataframe\">\n",
       "  <thead>\n",
       "    <tr style=\"text-align: right;\">\n",
       "      <th></th>\n",
       "      <th>&lt;arena.engine.classes.ClassUnderTest object at 0x7579b4250b30&gt;</th>\n",
       "      <th>&lt;arena.engine.classes.ClassUnderTest object at 0x7579cabc20c0&gt;</th>\n",
       "    </tr>\n",
       "  </thead>\n",
       "  <tbody>\n",
       "    <tr>\n",
       "      <th>0</th>\n",
       "      <td>&lt;arena.engine.ssntestdriver.TestInvocation obj...</td>\n",
       "      <td>&lt;arena.engine.ssntestdriver.TestInvocation obj...</td>\n",
       "    </tr>\n",
       "  </tbody>\n",
       "</table>\n",
       "</div>"
      ],
      "text/plain": [
       "  <arena.engine.classes.ClassUnderTest object at 0x7579b4250b30> <arena.engine.classes.ClassUnderTest object at 0x7579cabc20c0>\n",
       "0  <arena.engine.ssntestdriver.TestInvocation obj...              <arena.engine.ssntestdriver.TestInvocation obj...            "
      ]
     },
     "execution_count": 36,
     "metadata": {},
     "output_type": "execute_result"
    }
   ],
   "source": [
    "sm"
   ]
  },
  {
   "cell_type": "markdown",
   "id": "254f265e-031f-4c6e-9e9b-0b76c8d793c9",
   "metadata": {},
   "source": [
    "## Run Stimulus Matrix in Arena"
   ]
  },
  {
   "cell_type": "code",
   "execution_count": 37,
   "id": "9fbff6d6-d8d6-45ba-8ba0-6b25d2291b11",
   "metadata": {},
   "outputs": [],
   "source": [
    "# run stimulus matrix\n",
    "invocation_listener = InvocationListener()\n",
    "srm = run_sheets(sm, 1, invocation_listener)"
   ]
  },
  {
   "cell_type": "markdown",
   "id": "20fb2ec3-6345-4669-92c9-c4d96dfa267d",
   "metadata": {},
   "source": [
    "## SRM is a pandas DataFrame\n",
    "\n",
    "The data frame consists of complex objects."
   ]
  },
  {
   "cell_type": "code",
   "execution_count": 38,
   "id": "1ca3a3d5-4678-4c0b-840f-709de22ababb",
   "metadata": {},
   "outputs": [
    {
     "data": {
      "text/html": [
       "<div>\n",
       "<style scoped>\n",
       "    .dataframe tbody tr th:only-of-type {\n",
       "        vertical-align: middle;\n",
       "    }\n",
       "\n",
       "    .dataframe tbody tr th {\n",
       "        vertical-align: top;\n",
       "    }\n",
       "\n",
       "    .dataframe thead th {\n",
       "        text-align: right;\n",
       "    }\n",
       "</style>\n",
       "<table border=\"1\" class=\"dataframe\">\n",
       "  <thead>\n",
       "    <tr style=\"text-align: right;\">\n",
       "      <th></th>\n",
       "      <th>&lt;arena.engine.adaptation.AdaptedImplementation object at 0x7579b5126210&gt;</th>\n",
       "      <th>&lt;arena.engine.adaptation.AdaptedImplementation object at 0x7579d067b200&gt;</th>\n",
       "    </tr>\n",
       "  </thead>\n",
       "  <tbody>\n",
       "    <tr>\n",
       "      <th>0</th>\n",
       "      <td>Executed Invocations\\n0 =&gt; ExecutedInvocation ...</td>\n",
       "      <td>Executed Invocations\\n0 =&gt; ExecutedInvocation ...</td>\n",
       "    </tr>\n",
       "  </tbody>\n",
       "</table>\n",
       "</div>"
      ],
      "text/plain": [
       "  <arena.engine.adaptation.AdaptedImplementation object at 0x7579b5126210> <arena.engine.adaptation.AdaptedImplementation object at 0x7579d067b200>\n",
       "0  Executed Invocations\\n0 => ExecutedInvocation ...                        Executed Invocations\\n0 => ExecutedInvocation ...                      "
      ]
     },
     "execution_count": 38,
     "metadata": {},
     "output_type": "execute_result"
    }
   ],
   "source": [
    "srm"
   ]
  },
  {
   "cell_type": "markdown",
   "id": "811d0bf9-15f5-47d4-a9b2-2a8e234c5bc1",
   "metadata": {},
   "source": [
    "## Zoom into SRM"
   ]
  },
  {
   "cell_type": "code",
   "execution_count": 39,
   "id": "70c9330c-7399-4466-b108-890a1ad28e8e",
   "metadata": {},
   "outputs": [],
   "source": [
    "# create actuation sheets, now we have the real stimulus response matrix (SRM)\n",
    "srm_actuations = collect_actuation_sheets(srm)"
   ]
  },
  {
   "cell_type": "code",
   "execution_count": 40,
   "id": "fd62d45f-ae5a-4f43-b7c1-936b3f3c2f26",
   "metadata": {},
   "outputs": [
    {
     "data": {
      "text/html": [
       "<div>\n",
       "<style scoped>\n",
       "    .dataframe tbody tr th:only-of-type {\n",
       "        vertical-align: middle;\n",
       "    }\n",
       "\n",
       "    .dataframe tbody tr th {\n",
       "        vertical-align: top;\n",
       "    }\n",
       "\n",
       "    .dataframe thead th {\n",
       "        text-align: right;\n",
       "    }\n",
       "</style>\n",
       "<table border=\"1\" class=\"dataframe\">\n",
       "  <thead>\n",
       "    <tr style=\"text-align: right;\">\n",
       "      <th></th>\n",
       "      <th>&lt;arena.engine.adaptation.AdaptedImplementation object at 0x7579b5126210&gt;</th>\n",
       "      <th>&lt;arena.engine.adaptation.AdaptedImplementation object at 0x7579d067b200&gt;</th>\n",
       "    </tr>\n",
       "  </thead>\n",
       "  <tbody>\n",
       "    <tr>\n",
       "      <th>0</th>\n",
       "      <td>output operation          service    ...</td>\n",
       "      <td>output operation          service    ...</td>\n",
       "    </tr>\n",
       "  </tbody>\n",
       "</table>\n",
       "</div>"
      ],
      "text/plain": [
       "  <arena.engine.adaptation.AdaptedImplementation object at 0x7579b5126210> <arena.engine.adaptation.AdaptedImplementation object at 0x7579d067b200>\n",
       "0           output operation          service    ...                                 output operation          service    ...                      "
      ]
     },
     "execution_count": 40,
     "metadata": {},
     "output_type": "execute_result"
    }
   ],
   "source": [
    "srm_actuations"
   ]
  },
  {
   "cell_type": "markdown",
   "id": "883f5395-01f3-4c63-9c16-e57f074d1124",
   "metadata": {},
   "source": [
    "### Get Actuation sheet for first cell in the DataFrame"
   ]
  },
  {
   "cell_type": "code",
   "execution_count": 45,
   "id": "a57bdc91-af80-4908-8f33-0234c2dbad33",
   "metadata": {},
   "outputs": [
    {
     "name": "stderr",
     "output_type": "stream",
     "text": [
      "/tmp/ipykernel_271683/2780891456.py:1: FutureWarning: Series.__getitem__ treating keys as positions is deprecated. In a future version, integer keys will always be treated as labels (consistent with DataFrame behavior). To access a value by position, use `ser.iloc[pos]`\n",
      "  srm_actuations.iloc[0][0] # pick first cell\n"
     ]
    },
    {
     "data": {
      "text/html": [
       "<div>\n",
       "<style scoped>\n",
       "    .dataframe tbody tr th:only-of-type {\n",
       "        vertical-align: middle;\n",
       "    }\n",
       "\n",
       "    .dataframe tbody tr th {\n",
       "        vertical-align: top;\n",
       "    }\n",
       "\n",
       "    .dataframe thead th {\n",
       "        text-align: right;\n",
       "    }\n",
       "</style>\n",
       "<table border=\"1\" class=\"dataframe\">\n",
       "  <thead>\n",
       "    <tr style=\"text-align: right;\">\n",
       "      <th></th>\n",
       "      <th>output</th>\n",
       "      <th>operation</th>\n",
       "      <th>service</th>\n",
       "      <th>input_0</th>\n",
       "    </tr>\n",
       "  </thead>\n",
       "  <tbody>\n",
       "    <tr>\n",
       "      <th>0</th>\n",
       "      <td>$CUT@list@0</td>\n",
       "      <td>__init__</td>\n",
       "      <td>UORJYPAOKJ.List</td>\n",
       "      <td>None</td>\n",
       "    </tr>\n",
       "    <tr>\n",
       "      <th>1</th>\n",
       "      <td>None</td>\n",
       "      <td>append</td>\n",
       "      <td>$CUT@list@0</td>\n",
       "      <td>Hello World!</td>\n",
       "    </tr>\n",
       "    <tr>\n",
       "      <th>2</th>\n",
       "      <td>1</td>\n",
       "      <td>len</td>\n",
       "      <td>$CUT@list@0</td>\n",
       "      <td>None</td>\n",
       "    </tr>\n",
       "    <tr>\n",
       "      <th>3</th>\n",
       "      <td>Hello World!</td>\n",
       "      <td>pop</td>\n",
       "      <td>$CUT@list@0</td>\n",
       "      <td>None</td>\n",
       "    </tr>\n",
       "    <tr>\n",
       "      <th>4</th>\n",
       "      <td>0</td>\n",
       "      <td>len</td>\n",
       "      <td>$CUT@list@0</td>\n",
       "      <td>None</td>\n",
       "    </tr>\n",
       "  </tbody>\n",
       "</table>\n",
       "</div>"
      ],
      "text/plain": [
       "         output operation          service       input_0\n",
       "0   $CUT@list@0  __init__  UORJYPAOKJ.List          None\n",
       "1          None    append      $CUT@list@0  Hello World!\n",
       "2             1       len      $CUT@list@0          None\n",
       "3  Hello World!       pop      $CUT@list@0          None\n",
       "4             0       len      $CUT@list@0          None"
      ]
     },
     "execution_count": 45,
     "metadata": {},
     "output_type": "execute_result"
    }
   ],
   "source": [
    "srm_actuations.iloc[0][0] # pick first cell"
   ]
  },
  {
   "cell_type": "markdown",
   "id": "48387387-f66b-48b2-981f-cb262bee04c7",
   "metadata": {},
   "source": [
    "### Which Candidate Implementation is it?"
   ]
  },
  {
   "cell_type": "code",
   "execution_count": 46,
   "id": "55af29d4-2d37-4772-8364-f1178ceccc0f",
   "metadata": {},
   "outputs": [
    {
     "data": {
      "text/plain": [
       "{'cut': <arena.engine.classes.ClassUnderTest at 0x7579b4250b30>,\n",
       " 'initializer_mapping': {},\n",
       " 'method_mapping': {<arena.lql.lqlparser.MethodSignature at 0x7579b425b770>: <method 'append' of 'list' objects>,\n",
       "  <arena.lql.lqlparser.MethodSignature at 0x7579b425bad0>: <method 'pop' of 'list' objects>,\n",
       "  <arena.lql.lqlparser.MethodSignature at 0x7579b4258bf0>: <function len(obj, /)>},\n",
       " 'adapter_id': '0'}"
      ]
     },
     "execution_count": 46,
     "metadata": {},
     "output_type": "execute_result"
    }
   ],
   "source": [
    "vars(srm_actuations.columns[0]) # print properties of object"
   ]
  },
  {
   "cell_type": "code",
   "execution_count": 47,
   "id": "889d52a9-a0bd-42cf-93c7-1b8a0844108e",
   "metadata": {},
   "outputs": [
    {
     "data": {
      "text/plain": [
       "{'id': '1', 'code_candidate': None, 'class_under_test': list}"
      ]
     },
     "execution_count": 47,
     "metadata": {},
     "output_type": "execute_result"
    }
   ],
   "source": [
    "#  show class\n",
    "vars(srm_actuations.columns[0].cut) # print properties of object"
   ]
  },
  {
   "cell_type": "markdown",
   "id": "b294f527-d0b8-4f0d-8bb6-dbd49b334b5b",
   "metadata": {},
   "source": [
    "### Which Test is it?"
   ]
  },
  {
   "cell_type": "code",
   "execution_count": 48,
   "id": "ab8b57fc-dab9-4acb-9e7c-514110cbe1ac",
   "metadata": {},
   "outputs": [
    {
     "name": "stderr",
     "output_type": "stream",
     "text": [
      "/tmp/ipykernel_271683/1479926970.py:2: FutureWarning: Series.__getitem__ treating keys as positions is deprecated. In a future version, integer keys will always be treated as labels (consistent with DataFrame behavior). To access a value by position, use `ser.iloc[pos]`\n",
      "  vars(sm.iloc[0][0].test) # print properties of object\n"
     ]
    },
    {
     "data": {
      "text/plain": [
       "{'name': 'test1',\n",
       " 'parsed_sheet': <arena.ssn.ssnparser.ParsedSheet at 0x7579b42599a0>,\n",
       " 'interface_specification': <arena.lql.lqlparser.Interface at 0x7579b425ba40>,\n",
       " 'signature': <arena.arena.SheetSignature at 0x7579b425bfe0>}"
      ]
     },
     "execution_count": 48,
     "metadata": {},
     "output_type": "execute_result"
    }
   ],
   "source": [
    "# from Stimulus Matrix\n",
    "vars(sm.iloc[0][0].test) # print properties of object"
   ]
  },
  {
   "cell_type": "code",
   "execution_count": null,
   "id": "4b12f84e-e80e-4b1b-b209-c57098c4202c",
   "metadata": {},
   "outputs": [],
   "source": []
  }
 ],
 "metadata": {
  "kernelspec": {
   "display_name": "Python 3 (ipykernel)",
   "language": "python",
   "name": "python3"
  },
  "language_info": {
   "codemirror_mode": {
    "name": "ipython",
    "version": 3
   },
   "file_extension": ".py",
   "mimetype": "text/x-python",
   "name": "python",
   "nbconvert_exporter": "python",
   "pygments_lexer": "ipython3",
   "version": "3.12.3"
  }
 },
 "nbformat": 4,
 "nbformat_minor": 5
}
